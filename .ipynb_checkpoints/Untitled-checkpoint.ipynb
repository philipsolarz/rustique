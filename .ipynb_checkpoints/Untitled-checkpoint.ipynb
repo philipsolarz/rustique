{
 "cells": [
  {
   "cell_type": "code",
   "execution_count": 9,
   "id": "85b78c5a-2e7c-4947-8d73-65bddad55566",
   "metadata": {},
   "outputs": [],
   "source": [
    "import rustique as rs\n",
    "from rustique import List, Rustique"
   ]
  },
  {
   "cell_type": "code",
   "execution_count": 18,
   "id": "7841e324-cd33-4bb1-8bbc-8e977bdac572",
   "metadata": {},
   "outputs": [
    {
     "ename": "AttributeError",
     "evalue": "'builtins.List' object has no attribute 'iter'",
     "output_type": "error",
     "traceback": [
      "\u001b[0;31m---------------------------------------------------------------------------\u001b[0m",
      "\u001b[0;31mAttributeError\u001b[0m                            Traceback (most recent call last)",
      "Cell \u001b[0;32mIn[18], line 2\u001b[0m\n\u001b[1;32m      1\u001b[0m ls \u001b[38;5;241m=\u001b[39m List([\u001b[38;5;241m1\u001b[39m, \u001b[38;5;241m2\u001b[39m, \u001b[38;5;241m3\u001b[39m, \u001b[38;5;241m4\u001b[39m])\n\u001b[0;32m----> 2\u001b[0m result \u001b[38;5;241m=\u001b[39m \u001b[43mls\u001b[49m\u001b[38;5;241;43m.\u001b[39;49m\u001b[43miter\u001b[49m()\u001b[38;5;241m.\u001b[39mmap(\u001b[38;5;28;01mlambda\u001b[39;00m x: x \u001b[38;5;241m*\u001b[39m \u001b[38;5;241m2\u001b[39m)\u001b[38;5;241m.\u001b[39mfilter(\u001b[38;5;28;01mlambda\u001b[39;00m x: x \u001b[38;5;241m>\u001b[39m \u001b[38;5;241m5\u001b[39m)\u001b[38;5;241m.\u001b[39mcollect()\n",
      "\u001b[0;31mAttributeError\u001b[0m: 'builtins.List' object has no attribute 'iter'"
     ]
    }
   ],
   "source": [
    "ls = List([1, 2, 3, 4])\n",
    "result = ls.iter().map(lambda x: x * 2).filter(lambda x: x > 5).collect()"
   ]
  },
  {
   "cell_type": "code",
   "execution_count": null,
   "id": "43482186-4dcd-46ef-b222-de0d84aa4d15",
   "metadata": {},
   "outputs": [],
   "source": []
  }
 ],
 "metadata": {
  "kernelspec": {
   "display_name": "Python 3 (ipykernel)",
   "language": "python",
   "name": "python3"
  },
  "language_info": {
   "codemirror_mode": {
    "name": "ipython",
    "version": 3
   },
   "file_extension": ".py",
   "mimetype": "text/x-python",
   "name": "python",
   "nbconvert_exporter": "python",
   "pygments_lexer": "ipython3",
   "version": "3.13.0"
  }
 },
 "nbformat": 4,
 "nbformat_minor": 5
}
