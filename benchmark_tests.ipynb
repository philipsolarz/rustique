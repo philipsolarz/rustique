{
 "cells": [
  {
   "cell_type": "code",
   "execution_count": 4,
   "id": "a9db4ce0-f2e5-49be-98c9-114b7b277558",
   "metadata": {},
   "outputs": [
    {
     "name": "stdout",
     "output_type": "stream",
     "text": [
      "[6, 8]\n"
     ]
    }
   ],
   "source": [
    "import rustique as rs\n",
    "from rustique import List, Rustique\n",
    "\n",
    "ls = List([1, 2, 3, 4])\n",
    "result = ls.map(lambda x: x * 2).filter(lambda x: x > 5).collect()\n",
    "print(result)"
   ]
  },
  {
   "cell_type": "code",
   "execution_count": 4,
   "id": "6ad84970-a21c-469a-af88-948b7eef070b",
   "metadata": {},
   "outputs": [
    {
     "name": "stdout",
     "output_type": "stream",
     "text": [
      "<class 'list'>\n"
     ]
    }
   ],
   "source": [
    "print(type(result))"
   ]
  },
  {
   "cell_type": "code",
   "execution_count": 28,
   "id": "26883f2b-1ed0-42e9-ad38-c564ee580a02",
   "metadata": {},
   "outputs": [
    {
     "name": "stdout",
     "output_type": "stream",
     "text": [
      "Rust List (map/filter/collect) time: 0.172393 seconds\n",
      "Python built-in list (map/filter) time: 0.721278 seconds\n",
      "Python on Rust List (.list + map/filter) time: 0.000017 seconds\n",
      "The fastest approach is: Python on Rust List (.list + map/filter)\n",
      "All methods produced identical results. Benchmark completed successfully.\n"
     ]
    }
   ],
   "source": [
    "import timeit\n",
    "from rustique import List  # Import the Rust-based List class\n",
    "\n",
    "# Sample data\n",
    "data = list(range(1, 1000000))  # A list with 1 million integers\n",
    "rust_list = List(data)\n",
    "\n",
    "# 1. Benchmark using Rust List's map/filter/collect\n",
    "def rust_list_operations():\n",
    "    result = (\n",
    "        rust_list\n",
    "        .map(lambda x: x * 2)\n",
    "        .filter(lambda x: x % 3 == 0)\n",
    "        .collect()\n",
    "    )\n",
    "    return result\n",
    "\n",
    "# 2. Benchmark using Python's built-in list operations\n",
    "def python_list_operations():\n",
    "    return [x * 2 for x in data if (x * 2) % 3 == 0]\n",
    "    # return list(filter(lambda x: x % 3 == 0, map(lambda x: x * 2, data)))\n",
    "\n",
    "# 3. Benchmark using Python's built-in filter/map on Rust List's inner list\n",
    "def python_on_rust_list_operations():\n",
    "    return list(filter(lambda x: x % 3 == 0, map(lambda x: x * 2, rust_list)))\n",
    "\n",
    "# Ensure correctness by asserting all methods produce the same result\n",
    "rust_result = rust_list_operations()\n",
    "rust_list = List(data)\n",
    "python_result = python_list_operations()\n",
    "python_on_rust_result = python_on_rust_list_operations()\n",
    "\n",
    "assert rust_result == python_result == python_on_rust_result, \"Results do not match!\"\n",
    "\n",
    "# Running the benchmarks\n",
    "\n",
    "rust_time = timeit.timeit(\"rust_list_operations()\", globals=globals(), number=10)\n",
    "python_time = timeit.timeit(\"python_list_operations()\", globals=globals(), number=10)\n",
    "python_on_rust_time = timeit.timeit(\"python_on_rust_list_operations()\", globals=globals(), number=10)\n",
    "\n",
    "# Display the results\n",
    "print(f\"Rust List (map/filter/collect) time: {rust_time:.6f} seconds\")\n",
    "print(f\"Python built-in list (map/filter) time: {python_time:.6f} seconds\")\n",
    "print(f\"Python on Rust List (.list + map/filter) time: {python_on_rust_time:.6f} seconds\")\n",
    "\n",
    "# Determine the fastest approach\n",
    "times = {\n",
    "    \"Rust List (map/filter/collect)\": rust_time,\n",
    "    \"Python built-in list (map/filter)\": python_time,\n",
    "    \"Python on Rust List (.list + map/filter)\": python_on_rust_time,\n",
    "}\n",
    "\n",
    "fastest = min(times, key=times.get)\n",
    "print(f\"The fastest approach is: {fastest}\")\n",
    "\n",
    "print(\"All methods produced identical results. Benchmark completed successfully.\")\n"
   ]
  },
  {
   "cell_type": "code",
   "execution_count": 49,
   "id": "415cc4d9-5a93-450e-8650-bbb324bd5afe",
   "metadata": {},
   "outputs": [
    {
     "name": "stdout",
     "output_type": "stream",
     "text": [
      "Rust List (map/filter/collect) time: 0.000014 seconds\n",
      "Python list comprehension time: 0.593215 seconds\n",
      "The fastest approach is: Rust List (map/filter/collect)\n",
      "All methods produced identical results. Benchmark completed successfully.\n"
     ]
    }
   ],
   "source": [
    "import timeit\n",
    "from rustique import List\n",
    "\n",
    "# Sample data\n",
    "data = list(range(1, 1000000))  # 1 million numbers\n",
    "\n",
    "# Prepare the Rust list once (outside timing)\n",
    "rust_list_instance = List(data)\n",
    "rust_list_instance2 = List(data)\n",
    "\n",
    "# 1. Benchmark using Rust List's map/filter/collect\n",
    "def rust_list_operations(rust_list):\n",
    "    result = (\n",
    "        rust_list\n",
    "        .map(lambda x: x * 2)\n",
    "        .filter(lambda x: x % 3 == 0)\n",
    "        .collect()\n",
    "    )\n",
    "    return result\n",
    "\n",
    "# 2. Benchmark using Python's built-in list operations\n",
    "def python_list_operations():\n",
    "    return [x * 2 for x in data if (x * 2) % 3 == 0]\n",
    "\n",
    "# 3. Benchmark using Python's built-in filter/map on Rust List's inner list\n",
    "def python_on_rust_list_operations(rust_list):\n",
    "    return list(filter(lambda x: x % 3 == 0, map(lambda x: x * 2, rust_list)))\n",
    "\n",
    "# Ensure correctness by asserting all methods produce the same result\n",
    "rust_result = rust_list_operations(rust_list_instance)\n",
    "python_result = python_list_operations()\n",
    "# python_on_rust_result = python_on_rust_list_operations(rust_list_instance2)\n",
    "\n",
    "# assert rust_result == python_result == python_on_rust_result, \"Results do not match!\"\n",
    "assert rust_result == python_result\n",
    "# Benchmarking without re-initialization\n",
    "rust_time = timeit.timeit(lambda: rust_list_operations(rust_list_instance), number=10)\n",
    "python_time = timeit.timeit(python_list_operations, number=10)\n",
    "# python_on_rust_time = timeit.timeit(lambda: python_on_rust_list_operations(rust_list_instance), number=10)\n",
    "\n",
    "# Display the results\n",
    "print(f\"Rust List (map/filter/collect) time: {rust_time:.6f} seconds\")\n",
    "print(f\"Python list comprehension time: {python_time:.6f} seconds\")\n",
    "# print(f\"Python on Rust List (.list + map/filter) time: {python_on_rust_time:.6f} seconds\")\n",
    "\n",
    "# Determine the fastest\n",
    "times = {\n",
    "    \"Rust List (map/filter/collect)\": rust_time,\n",
    "    \"Python list comprehension\": python_time,\n",
    "    \"Python on Rust List (.list + map/filter)\": python_on_rust_time,\n",
    "}\n",
    "\n",
    "fastest = min(times, key=times.get)\n",
    "print(f\"The fastest approach is: {fastest}\")\n",
    "\n",
    "print(\"All methods produced identical results. Benchmark completed successfully.\")\n"
   ]
  },
  {
   "cell_type": "code",
   "execution_count": 48,
   "id": "b4bc55b5-9624-4275-b5ae-be4df8f07ac2",
   "metadata": {},
   "outputs": [
    {
     "data": {
      "text/plain": [
       "[]"
      ]
     },
     "execution_count": 48,
     "metadata": {},
     "output_type": "execute_result"
    }
   ],
   "source": [
    "python_on_rust_list_operations(rust_list_instance)"
   ]
  },
  {
   "cell_type": "code",
   "execution_count": 32,
   "id": "b9633559-7949-4f37-b31f-ea56a54446db",
   "metadata": {},
   "outputs": [
    {
     "name": "stdout",
     "output_type": "stream",
     "text": [
      "Python comprehension execution time: 0.083665 seconds\n"
     ]
    }
   ],
   "source": [
    "import time\n",
    "start = time.perf_counter()\n",
    "python_list_operations()\n",
    "end = time.perf_counter()\n",
    "print(f\"Python comprehension execution time: {end - start:.6f} seconds\")"
   ]
  },
  {
   "cell_type": "code",
   "execution_count": 33,
   "id": "3b257c93-d3d4-4775-b7a9-53eb06f5e1a4",
   "metadata": {},
   "outputs": [
    {
     "name": "stdout",
     "output_type": "stream",
     "text": [
      "Rust execution time: 0.191295 seconds\n"
     ]
    }
   ],
   "source": [
    "import time\n",
    "rust_list = List(data)\n",
    "start = time.perf_counter()\n",
    "rust_list_operations()\n",
    "end = time.perf_counter()\n",
    "print(f\"Rust execution time: {end - start:.6f} seconds\")\n"
   ]
  },
  {
   "cell_type": "code",
   "execution_count": 34,
   "id": "e3c3e9fd-83c5-4939-af21-fce3394260ee",
   "metadata": {},
   "outputs": [
    {
     "name": "stdout",
     "output_type": "stream",
     "text": [
      "Rust execution time: 0.147264 seconds\n"
     ]
    }
   ],
   "source": [
    "import time\n",
    "rust_list = List(data)\n",
    "start = time.perf_counter()\n",
    "python_on_rust_list_operations()\n",
    "end = time.perf_counter()\n",
    "print(f\"Rust execution time: {end - start:.6f} seconds\")\n"
   ]
  },
  {
   "cell_type": "code",
   "execution_count": null,
   "id": "ddd14063-2bd2-4e3e-9364-db96bd0837dd",
   "metadata": {},
   "outputs": [],
   "source": []
  }
 ],
 "metadata": {
  "kernelspec": {
   "display_name": "Python 3 (ipykernel)",
   "language": "python",
   "name": "python3"
  },
  "language_info": {
   "codemirror_mode": {
    "name": "ipython",
    "version": 3
   },
   "file_extension": ".py",
   "mimetype": "text/x-python",
   "name": "python",
   "nbconvert_exporter": "python",
   "pygments_lexer": "ipython3",
   "version": "3.13.0"
  }
 },
 "nbformat": 4,
 "nbformat_minor": 5
}
